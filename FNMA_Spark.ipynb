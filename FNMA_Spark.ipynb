{
 "cells": [
  {
   "cell_type": "code",
   "execution_count": 2,
   "metadata": {},
   "outputs": [],
   "source": [
    "import numpy as np\n",
    "from pyspark import SparkConf\n",
    "from pyspark.sql import SparkSession\n",
    "from pyspark.sql.types import StructType, StructField, StringType, DateType, FloatType, IntegerType\n",
    "import pyspark.sql.functions as F"
   ]
  },
  {
   "cell_type": "code",
   "execution_count": 3,
   "metadata": {},
   "outputs": [],
   "source": [
    "conf = SparkConf().setAll((\n",
    "    (\"spark.task.maxFailures\", \"10\"),\n",
    "    (\"spark.serializer\", \"org.apache.spark.serializer.KryoSerializer\"),\n",
    "    (\"spark.sql.execution.arrow.enabled\", \"true\"),\n",
    "    (\"spark.shuffle.service.enabled\", \"true\"),\n",
    "    (\"spark.dynamicAllocation.enabled\", \"true\")))\n",
    "#     (\"spark.master\", \"yarn\")))\n",
    "# Can't get anything to work with this on, so we can't use the cluster\n",
    "\n",
    "spark = SparkSession.builder \\\n",
    "    .appName(\"FNMA Spark -  Notebook\") \\\n",
    "    .config(conf=conf) \\\n",
    "    .getOrCreate()"
   ]
  },
  {
   "cell_type": "code",
   "execution_count": 4,
   "metadata": {},
   "outputs": [],
   "source": [
    "# Only used in master-yarn mode\n",
    "# import os\n",
    "# os.environ[\"HADOOP_USER_NAME\"] = \"hdfs\""
   ]
  },
  {
   "cell_type": "code",
   "execution_count": 5,
   "metadata": {},
   "outputs": [],
   "source": [
    "schema_acq = [['LoanID', str],\n",
    "              ['Channel', str],\n",
    "              ['SellerName', str],\n",
    "              ['OrInterestRate', np.dtype('float64')],\n",
    "              ['OrUnpaidPrinc', np.dtype('int64')],\n",
    "              ['OrLoanTerm', np.dtype('int64')],\n",
    "              ['OrDate', str],\n",
    "              ['FirstPayment', str],\n",
    "              ['OrLTV', np.dtype('float64')],\n",
    "              ['OrCLTV', np.dtype('float64')],\n",
    "              ['NumBorrow', np.dtype('float64')],\n",
    "              ['DTIRat', np.dtype('float64')],\n",
    "              ['CreditScore', np.dtype('float64')],\n",
    "              ['FTHomeBuyer', str],\n",
    "              ['LoanPurpose', str],\n",
    "              ['PropertyType', str],\n",
    "              ['NumUnits', np.dtype('int64')],\n",
    "              ['OccStatus', str],\n",
    "              ['PropertyState', str],\n",
    "              ['Zip', np.dtype('int64')],\n",
    "              ['MortInsPerc', np.dtype('float64')],\n",
    "              ['ProductType', str],\n",
    "              ['CoCreditScore', np.dtype('float64')],\n",
    "              ['MortInsType', np.dtype('float64')],\n",
    "              ['RelMortInd', str]]\n",
    "\n",
    "schema_per = [['LoanID', str],\n",
    "              ['ReportingDate', str],\n",
    "              ['Servicer', str],\n",
    "              ['CurrInterestRate', np.dtype('float64')],\n",
    "              ['CAUPB', np.dtype('float64')],\n",
    "              ['LoanAge', np.dtype('int64')],\n",
    "              ['MonthsToMaturity', np.dtype('float64')],\n",
    "              ['AdMonthsToMaturity', np.dtype('float64')],\n",
    "              ['MaturityDate', str],\n",
    "              ['MSA', np.dtype('int64')],\n",
    "              ['CurDelStatus', str],\n",
    "              ['ModFlag', str],\n",
    "              ['ZeroBalCode', np.dtype('float64')],\n",
    "              ['ZeroBalEffDate', str],\n",
    "              ['LastInstallDate', str],\n",
    "              ['ForeclosureDate', str],\n",
    "              ['DispositionDate', str],\n",
    "              ['ForeclosureCost', np.dtype('float64')],\n",
    "              ['RepairCost', np.dtype('float64')],\n",
    "              ['AssetRecCost', np.dtype('float64')],\n",
    "              ['MiscCostsPF', np.dtype('float64')],\n",
    "              ['ATFHP', np.dtype('float64')],\n",
    "              ['NetSaleProceeds', np.dtype('float64')],\n",
    "              ['CreditEnhProceeds', np.dtype('float64')],\n",
    "              ['RPMWP', np.dtype('float64')],\n",
    "              ['OtherForePro', np.dtype('float64')],\n",
    "              ['NonInterestUPB', np.dtype('float64')],\n",
    "              ['PricipleForgiven', np.dtype('float64')],\n",
    "              ['RMWPF', str],\n",
    "              ['FPWA', np.dtype('float64')],\n",
    "              ['ServicingIndicator', str]]"
   ]
  },
  {
   "cell_type": "code",
   "execution_count": 8,
   "metadata": {},
   "outputs": [],
   "source": [
    "schemap = {\n",
    "    str: StringType(),\n",
    "    np.dtype('float64'): FloatType(),\n",
    "    np.dtype('int64'): IntegerType()\n",
    "    \n",
    "}"
   ]
  },
  {
   "cell_type": "code",
   "execution_count": null,
   "metadata": {
    "scrolled": false
   },
   "outputs": [],
   "source": [
    "%%time\n",
    "\n",
    "schema_acq_spark = StructType([StructField(k, schemap[v], True) for k,v in schema_acq])\n",
    "schema_per_spark = StructType([StructField(k, schemap[v], True) for k,v in schema_per])\n",
    "\n",
    "acq = spark.read.load(\"/data/FNMA/Acquisition_2012Q4.txt\", format=\"csv\", header=\"false\",\n",
    "                     sep='|', schema=schema_acq_spark)\n",
    "\n",
    "per = spark.read.load(\"/data/FNMA/Performance_2012Q4.txt\", format=\"csv\", header=\"false\",\n",
    "                     sep='|', schema=schema_per_spark)\n",
    "\n",
    "per = per.withColumn('date', F.to_date(per.ReportingDate, 'MM/dd/yyyy')) \\\n",
    "    .drop('ReportingDate') \\\n",
    "    .withColumnRenamed('date', 'ReportingDate') \\\n",
    "    .orderBy(\"LoanID\", F.desc(\"ReportingDate\")) \\\n",
    "    .dropDuplicates([\"LoanID\"])\n",
    "\n",
    "df = acq.join(per, 'LoanID', 'outer').persist()\n",
    "\n",
    "print(df.count())"
   ]
  },
  {
   "cell_type": "code",
   "execution_count": null,
   "metadata": {},
   "outputs": [],
   "source": [
    "len(df.columns)"
   ]
  },
  {
   "cell_type": "code",
   "execution_count": null,
   "metadata": {},
   "outputs": [],
   "source": []
  }
 ],
 "metadata": {
  "kernelspec": {
   "display_name": "Python 3",
   "language": "python",
   "name": "python3"
  },
  "language_info": {
   "codemirror_mode": {
    "name": "ipython",
    "version": 3
   },
   "file_extension": ".py",
   "mimetype": "text/x-python",
   "name": "python",
   "nbconvert_exporter": "python",
   "pygments_lexer": "ipython3",
   "version": "3.6.8"
  }
 },
 "nbformat": 4,
 "nbformat_minor": 2
}
