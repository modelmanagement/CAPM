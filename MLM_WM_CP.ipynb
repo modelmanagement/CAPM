{
 "cells": [
  {
   "cell_type": "markdown",
   "metadata": {},
   "source": [
    "CP Data science"
   ]
  },
  {
   "cell_type": "code",
   "execution_count": 9,
   "metadata": {},
   "outputs": [],
   "source": [
    "import pandas as pd\n",
    "from mlm_wm_client_prospecting.data_loader import DataLoader\n",
    "from mlm_wm_client_prospecting.all_models import RandomForest, XGBoost, ExtraTrees, PermutationImportance\n",
    "import warnings\n",
    "warnings.filterwarnings(\"ignore\")\n",
    "\n",
    "import mlflow\n",
    "import mlflow.sklearn\n",
    "\n",
    "N_CHUNKS = 7\n",
    "NB_FEATURES = 30"
   ]
  },
  {
   "cell_type": "markdown",
   "metadata": {},
   "source": [
    "### Create a function for model processing"
   ]
  },
  {
   "cell_type": "code",
   "execution_count": 10,
   "metadata": {},
   "outputs": [],
   "source": [
    "def process_model(model, features, labels, features_test, labels_test, permutation=False):\n",
    "    \"\"\"\n",
    "    Process single model. Train the model, get feature importance list, measure accuracy on the test data.\n",
    "    :param model:\n",
    "    :param features:\n",
    "    :param labels:\n",
    "    :param features_test:\n",
    "    :param labels_test:\n",
    "    :param permutation:\n",
    "    :return:\n",
    "    \"\"\"\n",
    "\n",
    "    model.train(features, labels)\n",
    "    features_imp = model.get_feature_importance(features, nb_features=NB_FEATURES)\n",
    "    metrics = model.get_metrics(features_test, labels_test)\n",
    "\n",
    "    mlflow.log_metric(\"accuracy\", metrics['Accuracy'])\n",
    "    mlflow.log_metric(\"f1\", metrics['F1'])\n",
    "    mlflow.log_metric(\"precision\", metrics['Precision'])\n",
    "\n",
    "    df = pd.DataFrame(features_imp)\n",
    "    df.reset_index().to_json('features.json', orient='values')\n",
    "    mlflow.log_artifact(\"features.json\") # log features\n",
    "\n",
    "    mlflow.sklearn.log_model(model.model, \"model\") # save model"
   ]
  },
  {
   "cell_type": "code",
   "execution_count": 11,
   "metadata": {},
   "outputs": [],
   "source": [
    "# load data\n",
    "df = pd.read_csv('train.csv') # change this"
   ]
  },
  {
   "cell_type": "code",
   "execution_count": 12,
   "metadata": {},
   "outputs": [],
   "source": [
    "target='AP005200_Likely_To_Switch_Investment_Provider_Fin_rank_base_20_AP005200'\n",
    "threshold=15\n",
    "dataLoader = DataLoader(df=df)\n",
    "dataLoader.label_data(target, threshold)\n",
    "features, _, labels, _ = dataLoader.split_data(0.0, target)\n",
    "chunk_size = features.shape[0] // N_CHUNKS"
   ]
  },
  {
   "cell_type": "markdown",
   "metadata": {},
   "source": [
    "## Experiments\n",
    "Apply train process on different models and data size. Log metrics, data size, model and feature importance"
   ]
  },
  {
   "cell_type": "code",
   "execution_count": 13,
   "metadata": {},
   "outputs": [],
   "source": [
    "mlflow.create_experiment(\"WM - Client Prospecting\")\n",
    "mlflow.set_experiment(\"WM - Client Prospecting\")"
   ]
  },
  {
   "cell_type": "code",
   "execution_count": 14,
   "metadata": {},
   "outputs": [],
   "source": [
    "for i in range(1, N_CHUNKS+1):\n",
    "    X_Features = features.iloc[:i * chunk_size]\n",
    "    Y_Labels = labels.iloc[:i * chunk_size]\n",
    "\n",
    "    rf = RandomForest()\n",
    "    et = ExtraTrees()\n",
    "    xgb = XGBoost()\n",
    "\n",
    "    with mlflow.start_run():\n",
    "        mlflow.log_param('model', 'Random Forest')\n",
    "        mlflow.log_param('data_size', i*chunk_size)\n",
    "        process_model(rf, X_Features, Y_Labels, X_Features, Y_Labels, permutation=False)\n",
    "    with mlflow.start_run():\n",
    "        mlflow.log_param('data_size', i * chunk_size)\n",
    "        mlflow.log_param('model', 'Extra Trees')\n",
    "        process_model(et, X_Features, Y_Labels, X_Features, Y_Labels, permutation=False)\n",
    "    with mlflow.start_run():\n",
    "        mlflow.log_param('data_size', i * chunk_size)\n",
    "        mlflow.log_param('model', 'XGBoost')\n",
    "        process_model(xgb, X_Features, Y_Labels, X_Features, Y_Labels, permutation=False)"
   ]
  }
 ],
 "metadata": {
  "kernelspec": {
   "display_name": "Python 3",
   "language": "python",
   "name": "python3"
  },
  "language_info": {
   "codemirror_mode": {
    "name": "ipython",
    "version": 3
   },
   "file_extension": ".py",
   "mimetype": "text/x-python",
   "name": "python",
   "nbconvert_exporter": "python",
   "pygments_lexer": "ipython3",
   "version": "3.6.8"
  }
 },
 "nbformat": 4,
 "nbformat_minor": 2
}
