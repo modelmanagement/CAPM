{
 "cells": [
  {
   "cell_type": "code",
   "execution_count": null,
   "metadata": {},
   "outputs": [],
   "source": [
    "import os\n",
    "from pyspark import SparkConf\n",
    "from pyspark.sql import SparkSession"
   ]
  },
  {
   "cell_type": "code",
   "execution_count": null,
   "metadata": {},
   "outputs": [],
   "source": [
    "#changing user to hdfs such that it can access files in the hdfs\n",
    "os.environ[\"HADOOP_USER_NAME\"] = \"hdfs\""
   ]
  },
  {
   "cell_type": "code",
   "execution_count": null,
   "metadata": {},
   "outputs": [],
   "source": [
    "conf = SparkConf().setAll((\n",
    "    (\"spark.task.maxFailures\", \"10\"),\n",
    "    (\"spark.serializer\", \"org.apache.spark.serializer.KryoSerializer\"),\n",
    "    (\"spark.sql.execution.arrow.enabled\", \"true\"),\n",
    "    (\"spark.shuffle.service.enabled\", \"true\"),\n",
    "    (\"spark.driver.memory\", \"12g\"),\n",
    "    (\"spark.dynamicAllocation.enabled\", \"true\")))"
   ]
  },
  {
   "cell_type": "code",
   "execution_count": null,
   "metadata": {},
   "outputs": [],
   "source": [
    "conf.setAppName(\"parquet_conversion\").setMaster(\"yarn-client\")"
   ]
  },
  {
   "cell_type": "code",
   "execution_count": null,
   "metadata": {},
   "outputs": [],
   "source": [
    "spark = SparkSession.builder \\\n",
    "    .appName(\"FNMA Spark -  Notebook 2\") \\\n",
    "    .config(conf=conf) \\\n",
    "    .getOrCreate()"
   ]
  },
  {
   "cell_type": "code",
   "execution_count": null,
   "metadata": {},
   "outputs": [],
   "source": [
    "spark"
   ]
  },
  {
   "cell_type": "code",
   "execution_count": null,
   "metadata": {},
   "outputs": [],
   "source": [
    "#Loading the csv file \n",
    "df = spark.read.load(\"/data/FNMA/FNMA_2017_Join_result.csv\", format=\"csv\")\n",
    "\n",
    "#Converting the csv file to parquet\n",
    "df.write.parquet(\"/data/FNMA/FNMA_2017_Join_result.parquet\", mode=\"overwrite\")"
   ]
  },
  {
   "cell_type": "code",
   "execution_count": null,
   "metadata": {},
   "outputs": [],
   "source": []
  }
 ],
 "metadata": {
  "kernelspec": {
   "display_name": "Python 3",
   "language": "python",
   "name": "python3"
  },
  "language_info": {
   "codemirror_mode": {
    "name": "ipython",
    "version": 3
   },
   "file_extension": ".py",
   "mimetype": "text/x-python",
   "name": "python",
   "nbconvert_exporter": "python",
   "pygments_lexer": "ipython3",
   "version": "3.6.8"
  }
 },
 "nbformat": 4,
 "nbformat_minor": 2
}
