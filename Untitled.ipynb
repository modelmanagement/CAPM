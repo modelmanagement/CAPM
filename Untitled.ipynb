{
 "cells": [
  {
   "cell_type": "code",
   "execution_count": 1,
   "metadata": {},
   "outputs": [],
   "source": [
    "import pyarrow as pa"
   ]
  },
  {
   "cell_type": "code",
   "execution_count": 3,
   "metadata": {},
   "outputs": [],
   "source": [
    "fs = pa.hdfs.connect()"
   ]
  },
  {
   "cell_type": "code",
   "execution_count": 8,
   "metadata": {},
   "outputs": [
    {
     "data": {
      "text/plain": [
       "['/data/FNMA/Acquisition_2000Q1.txt',\n",
       " '/data/FNMA/Acquisition_2000Q2.txt',\n",
       " '/data/FNMA/Acquisition_2000Q3.txt',\n",
       " '/data/FNMA/Acquisition_2000Q4.txt',\n",
       " '/data/FNMA/Acquisition_2001Q1.txt',\n",
       " '/data/FNMA/Acquisition_2001Q2.txt',\n",
       " '/data/FNMA/Acquisition_2001Q3.txt',\n",
       " '/data/FNMA/Acquisition_2001Q4.txt',\n",
       " '/data/FNMA/Acquisition_2002Q1.txt',\n",
       " '/data/FNMA/Acquisition_2002Q2.txt',\n",
       " '/data/FNMA/Acquisition_2002Q3.txt',\n",
       " '/data/FNMA/Acquisition_2002Q4.txt',\n",
       " '/data/FNMA/Acquisition_2003Q1.txt',\n",
       " '/data/FNMA/Acquisition_2003Q2.txt',\n",
       " '/data/FNMA/Acquisition_2003Q3.txt',\n",
       " '/data/FNMA/Acquisition_2003Q4.txt',\n",
       " '/data/FNMA/Acquisition_2004Q1.txt',\n",
       " '/data/FNMA/Acquisition_2004Q2.txt',\n",
       " '/data/FNMA/Acquisition_2004Q3.txt',\n",
       " '/data/FNMA/Acquisition_2004Q4.txt',\n",
       " '/data/FNMA/Acquisition_2005Q1.txt',\n",
       " '/data/FNMA/Acquisition_2005Q2.txt',\n",
       " '/data/FNMA/Acquisition_2005Q3.txt',\n",
       " '/data/FNMA/Acquisition_2005Q4.txt',\n",
       " '/data/FNMA/Acquisition_2006Q1.txt',\n",
       " '/data/FNMA/Acquisition_2006Q2.txt',\n",
       " '/data/FNMA/Acquisition_2006Q3.txt',\n",
       " '/data/FNMA/Acquisition_2006Q4.txt',\n",
       " '/data/FNMA/Acquisition_2007Q1.txt',\n",
       " '/data/FNMA/Acquisition_2007Q2.txt',\n",
       " '/data/FNMA/Acquisition_2007Q3.txt',\n",
       " '/data/FNMA/Acquisition_2007Q4.txt',\n",
       " '/data/FNMA/Acquisition_2008Q1.txt',\n",
       " '/data/FNMA/Acquisition_2008Q2.txt',\n",
       " '/data/FNMA/Acquisition_2008Q3.txt',\n",
       " '/data/FNMA/Acquisition_2008Q4.txt',\n",
       " '/data/FNMA/Acquisition_2009Q1.txt',\n",
       " '/data/FNMA/Acquisition_2009Q2.txt',\n",
       " '/data/FNMA/Acquisition_2009Q3.txt',\n",
       " '/data/FNMA/Acquisition_2009Q4.txt',\n",
       " '/data/FNMA/Acquisition_2010Q1.txt',\n",
       " '/data/FNMA/Acquisition_2010Q2.txt',\n",
       " '/data/FNMA/Acquisition_2010Q3.txt',\n",
       " '/data/FNMA/Acquisition_2010Q4.txt',\n",
       " '/data/FNMA/Acquisition_2011Q1.txt',\n",
       " '/data/FNMA/Acquisition_2011Q2.txt',\n",
       " '/data/FNMA/Acquisition_2011Q3.txt',\n",
       " '/data/FNMA/Acquisition_2011Q4.txt',\n",
       " '/data/FNMA/Acquisition_2012Q1.txt',\n",
       " '/data/FNMA/Acquisition_2012Q2.txt',\n",
       " '/data/FNMA/Acquisition_2012Q3.txt',\n",
       " '/data/FNMA/Acquisition_2012Q4.txt',\n",
       " '/data/FNMA/Acquisition_2013Q1.txt',\n",
       " '/data/FNMA/Acquisition_2013Q2.txt',\n",
       " '/data/FNMA/Acquisition_2013Q3.txt',\n",
       " '/data/FNMA/Acquisition_2013Q4.txt',\n",
       " '/data/FNMA/Acquisition_2014Q1.txt',\n",
       " '/data/FNMA/Acquisition_2014Q2.txt',\n",
       " '/data/FNMA/Acquisition_2014Q3.txt',\n",
       " '/data/FNMA/Acquisition_2014Q4.txt',\n",
       " '/data/FNMA/Acquisition_2015Q1.txt',\n",
       " '/data/FNMA/Acquisition_2015Q2.txt',\n",
       " '/data/FNMA/Acquisition_2015Q3.txt',\n",
       " '/data/FNMA/Acquisition_2015Q4.txt',\n",
       " '/data/FNMA/Performance_2000Q1.txt',\n",
       " '/data/FNMA/Performance_2000Q2.txt',\n",
       " '/data/FNMA/Performance_2000Q3.txt',\n",
       " '/data/FNMA/Performance_2000Q4.txt',\n",
       " '/data/FNMA/Performance_2001Q1.txt',\n",
       " '/data/FNMA/Performance_2001Q2.txt',\n",
       " '/data/FNMA/Performance_2001Q3.txt',\n",
       " '/data/FNMA/Performance_2001Q4.txt',\n",
       " '/data/FNMA/Performance_2002Q1.txt',\n",
       " '/data/FNMA/Performance_2002Q2.txt',\n",
       " '/data/FNMA/Performance_2002Q3.txt',\n",
       " '/data/FNMA/Performance_2002Q4.txt',\n",
       " '/data/FNMA/Performance_2003Q1.txt',\n",
       " '/data/FNMA/Performance_2003Q2.txt',\n",
       " '/data/FNMA/Performance_2003Q3.txt',\n",
       " '/data/FNMA/Performance_2003Q4.txt',\n",
       " '/data/FNMA/Performance_2004Q1.txt',\n",
       " '/data/FNMA/Performance_2004Q2.txt',\n",
       " '/data/FNMA/Performance_2004Q3.txt',\n",
       " '/data/FNMA/Performance_2004Q4.txt',\n",
       " '/data/FNMA/Performance_2005Q1.txt',\n",
       " '/data/FNMA/Performance_2005Q2.txt',\n",
       " '/data/FNMA/Performance_2005Q3.txt',\n",
       " '/data/FNMA/Performance_2005Q4.txt',\n",
       " '/data/FNMA/Performance_2006Q1.txt',\n",
       " '/data/FNMA/Performance_2006Q2.txt',\n",
       " '/data/FNMA/Performance_2006Q3.txt',\n",
       " '/data/FNMA/Performance_2006Q4.txt',\n",
       " '/data/FNMA/Performance_2007Q1.txt',\n",
       " '/data/FNMA/Performance_2007Q2.txt',\n",
       " '/data/FNMA/Performance_2007Q3.txt',\n",
       " '/data/FNMA/Performance_2007Q4.txt',\n",
       " '/data/FNMA/Performance_2008Q1.txt',\n",
       " '/data/FNMA/Performance_2008Q2.txt',\n",
       " '/data/FNMA/Performance_2008Q3.txt',\n",
       " '/data/FNMA/Performance_2008Q4.txt',\n",
       " '/data/FNMA/Performance_2009Q1.txt',\n",
       " '/data/FNMA/Performance_2009Q2.txt',\n",
       " '/data/FNMA/Performance_2009Q3.txt',\n",
       " '/data/FNMA/Performance_2009Q4.txt',\n",
       " '/data/FNMA/Performance_2010Q1.txt',\n",
       " '/data/FNMA/Performance_2010Q2.txt',\n",
       " '/data/FNMA/Performance_2010Q3.txt',\n",
       " '/data/FNMA/Performance_2010Q4.txt',\n",
       " '/data/FNMA/Performance_2011Q1.txt',\n",
       " '/data/FNMA/Performance_2011Q2.txt',\n",
       " '/data/FNMA/Performance_2011Q3.txt',\n",
       " '/data/FNMA/Performance_2011Q4.txt',\n",
       " '/data/FNMA/Performance_2012Q1.txt',\n",
       " '/data/FNMA/Performance_2012Q2.txt',\n",
       " '/data/FNMA/Performance_2012Q3.txt',\n",
       " '/data/FNMA/Performance_2012Q4.txt',\n",
       " '/data/FNMA/Performance_2013Q1.txt',\n",
       " '/data/FNMA/Performance_2013Q2.txt',\n",
       " '/data/FNMA/Performance_2013Q3.txt',\n",
       " '/data/FNMA/Performance_2013Q4.txt',\n",
       " '/data/FNMA/Performance_2014Q1.txt',\n",
       " '/data/FNMA/Performance_2014Q2.txt',\n",
       " '/data/FNMA/Performance_2014Q3.txt',\n",
       " '/data/FNMA/Performance_2014Q4.txt',\n",
       " '/data/FNMA/Performance_2015Q1.txt',\n",
       " '/data/FNMA/Performance_2015Q2.txt',\n",
       " '/data/FNMA/Performance_2015Q3.txt',\n",
       " '/data/FNMA/Performance_2015Q4.txt']"
      ]
     },
     "execution_count": 8,
     "metadata": {},
     "output_type": "execute_result"
    }
   ],
   "source": [
    "fs.ls('/data/FNMA')"
   ]
  },
  {
   "cell_type": "code",
   "execution_count": 1,
   "metadata": {},
   "outputs": [],
   "source": [
    "import os"
   ]
  },
  {
   "cell_type": "code",
   "execution_count": 4,
   "metadata": {},
   "outputs": [
    {
     "data": {
      "text/plain": [
       "['.DS_Store',\n",
       " 'FNMA_Acquisition_2004.parquet',\n",
       " 'FNMA_Acquisition_2000.parquet',\n",
       " 'FNMA_Performance_2004.parquet',\n",
       " 'FNMA_Performance_2000.parquet']"
      ]
     },
     "execution_count": 4,
     "metadata": {},
     "output_type": "execute_result"
    }
   ],
   "source": [
    "os.listdir('/home/strost/FNMA_data')"
   ]
  },
  {
   "cell_type": "code",
   "execution_count": 12,
   "metadata": {},
   "outputs": [],
   "source": [
    "import os\n",
    "import sys\n",
    "\n",
    "def cpu_count():\n",
    "    '''\n",
    "    Returns the number of CPUs in the system\n",
    "    '''\n",
    "    if sys.platform == 'win32':\n",
    "        try:\n",
    "            num = int(os.environ['NUMBER_OF_PROCESSORS'])\n",
    "        except (ValueError, KeyError):\n",
    "            num = 0\n",
    "    elif 'bsd' in sys.platform or sys.platform == 'darwin':\n",
    "        comm = '/sbin/sysctl -n hw.ncpu'\n",
    "        if sys.platform == 'darwin':\n",
    "            comm = '/usr' + comm\n",
    "        try:\n",
    "            with os.popen(comm) as p:\n",
    "                num = int(p.read())\n",
    "        except ValueError:\n",
    "            num = 0\n",
    "    else:\n",
    "        try:\n",
    "            num = os.sysconf('SC_NPROCESSORS_ONLN')\n",
    "        except (ValueError, OSError, AttributeError):\n",
    "           num = 0\n",
    "\n",
    "    if num >= 1:\n",
    "        return num\n",
    "    else:\n",
    "        raise NotImplementedError('cannot determine number of cpus')"
   ]
  },
  {
   "cell_type": "code",
   "execution_count": 13,
   "metadata": {},
   "outputs": [
    {
     "data": {
      "text/plain": [
       "8"
      ]
     },
     "execution_count": 13,
     "metadata": {},
     "output_type": "execute_result"
    }
   ],
   "source": [
    "cpu_count()"
   ]
  },
  {
   "cell_type": "code",
   "execution_count": null,
   "metadata": {},
   "outputs": [],
   "source": []
  }
 ],
 "metadata": {
  "kernelspec": {
   "display_name": "Python 3",
   "language": "python",
   "name": "python3"
  },
  "language_info": {
   "codemirror_mode": {
    "name": "ipython",
    "version": 3
   },
   "file_extension": ".py",
   "mimetype": "text/x-python",
   "name": "python",
   "nbconvert_exporter": "python",
   "pygments_lexer": "ipython3",
   "version": "3.6.8"
  }
 },
 "nbformat": 4,
 "nbformat_minor": 2
}
