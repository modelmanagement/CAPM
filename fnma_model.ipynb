{
 "cells": [
  {
   "cell_type": "markdown",
   "metadata": {},
   "source": [
    "# Implementing logistic regression on the FannieMae dataset"
   ]
  },
  {
   "cell_type": "markdown",
   "metadata": {},
   "source": [
    "## Objective :\n",
    "\n",
    "- Download Fanniemae data from http://www.fanniemae.com/portal/index.html\n",
    "- Fannie Mae provides both an acquisitions file and a performance file for loans within its Single-Family Loan Performance Dataset. On a quarterly basis, the dataset is updated to add another quarter of acquisitions and another quarter of performance.\n",
    "- Create user and use credentials to download the dataset for acquisitions and performance dataset for each desired quarter.\n",
    "- After curating the data, implement imputation, and normalization.\n",
    "- Identify default cases and set training data. Create model supervised classification using this training data and run the model on data set.\n",
    "- Analyze the model output."
   ]
  },
  {
   "cell_type": "markdown",
   "metadata": {},
   "source": [
    "### Data Download and Pre-processing"
   ]
  },
  {
   "cell_type": "code",
   "execution_count": 1,
   "metadata": {},
   "outputs": [],
   "source": [
    "import requests\n",
    "from zipfile import ZipFile, BadZipFile\n",
    "import io\n",
    "import os\n",
    "from itertools import product\n",
    "import pandas as pd\n",
    "import pyarrow as pa\n",
    "import pyarrow.parquet as pq\n",
    "\n",
    "USERNAME = \"sam.trost@synechron.com\"\n",
    "PASSWORD = \"P@ssw0rd\"\n",
    "LOGIN_URL = 'https://loanperformancedata.fanniemae.com/lppub/loginForm.html'\n",
    "SAVE_DIR = 'FNMA_data'\n",
    "\n",
    "col_acq = ['LoanID','Channel','SellerName','OrInterestRate','OrUnpaidPrinc','OrLoanTerm',\n",
    "        'OrDate','FirstPayment','OrLTV','OrCLTV','NumBorrow','DTIRat','CreditScore',\n",
    "        'FTHomeBuyer','LoanPurpose','PropertyType','NumUnits','OccStatus','PropertyState',\n",
    "        'Zip','MortInsPerc','ProductType','CoCreditScore','MortInsType','RelMortInd']\n",
    "\n",
    "col_per = ['LoanID','ReportingDate','Servicer','CurrInterestRate','CAUPB','LoanAge','MonthsToMaturity',\n",
    "          'AdMonthsToMaturity','MaturityDate','MSA','CurDelStatus','ModFlag','ZeroBalCode','ZeroBalEffDate',\n",
    "          'LastInstallDate','ForeclosureDate','DispositionDate','ForeclosureCost','RepairCost','AssetRecCost','MiscCostsPF',\n",
    "          'ATFHP','NetSaleProceeds','CreditEnhProceeds','RPMWP','OtherForePro','NonInterestUPB','PricipleForgiven','RMWPF',\n",
    "          'FPWA','ServicingIndicator']"
   ]
  },
  {
   "cell_type": "code",
   "execution_count": 2,
   "metadata": {},
   "outputs": [],
   "source": [
    "class fnma:\n",
    "    def __init__(self, save_loc=None):\n",
    "        if not save_loc:\n",
    "            save_loc = os.getcwd()\n",
    "        self.save_path = os.path.join(save_loc, SAVE_DIR)\n",
    "        self.login_url = LOGIN_URL\n",
    "        self.login_data = {\n",
    "            'username': USERNAME,\n",
    "            'password': PASSWORD\n",
    "        }\n",
    "        self.session = self.login_site()\n",
    "\n",
    "    def login_site(self):\n",
    "        client = requests.session()\n",
    "        client.post(LOGIN_URL, data=self.login_data, headers={'Referrer': LOGIN_URL})\n",
    "        return client\n",
    "\n",
    "    def download_util(self, year, quarter):\n",
    "        \n",
    "        # Simple download and unzip utility, saves the two files in each .zip\n",
    "        \n",
    "        link = 'https://loanperformancedata.fanniemae.com/lppub/publish_aws?file={}Q{}.zip'.format(year, quarter)\n",
    "        print('Downloading {}'.format(link))\n",
    "        # Below is necessary as sometimes the link fails to return a zip file\n",
    "        while True:\n",
    "            try:\n",
    "                zip_file = self.session.get(link)\n",
    "                z = ZipFile(io.BytesIO(zip_file.content))\n",
    "            except BadZipFile:\n",
    "                continue\n",
    "            break\n",
    "        print(\"Unzipping {}\".format(link))\n",
    "        try:\n",
    "            os.makedirs(self.save_path)\n",
    "        except OSError:\n",
    "            pass\n",
    "        for file in z.infolist():\n",
    "            with open(os.path.join(self.save_path, file.filename), mode='wb') as f:\n",
    "                print(\"Saving {}\".format(file.filename))\n",
    "                for line in self.chunked(500000000, z.read(file.filename)):\n",
    "                    f.write(line)\n",
    "    \n",
    "    @staticmethod\n",
    "    def chunked(size, source):\n",
    "        for i in range(0, len(source), size):\n",
    "            yield source[i:i + size]\n",
    "    \n",
    "    def download_year(self, start, end=None):\n",
    "        if not end:\n",
    "            end = start + 1\n",
    "        yq = product(range(start, end), range(1, 5))\n",
    "        for dates in yq:\n",
    "            self.download_util(year=dates[0], quarter=dates[1])\n",
    "    \n",
    "    def read_txt(self, kind, year, quarter):\n",
    "        type_dict = {'a': 'Acquisition',\n",
    "                     'p': 'Performance'}\n",
    "\n",
    "        col_dict = {'a': col_acq,\n",
    "                    'p': col_per}\n",
    "\n",
    "        link = os.path.join(self.save_path, '{}_{}Q{}.txt'.format(type_dict[kind], year, quarter))\n",
    "\n",
    "        chunk_s = 200000\n",
    "        chunks = []\n",
    "\n",
    "        reader = pd.read_csv(link, sep='|', chunksize=chunk_s, header=None, names=col_dict[kind])\n",
    "        for chunk in reader:\n",
    "            chunks.append(chunk)\n",
    "            \n",
    "        df = pd.concat(chunks, axis=0)\n",
    "        del(chunks)\n",
    "        \n",
    "        return df\n",
    "    \n",
    "    def build_parquet(self, kind, year):\n",
    "        \n",
    "        # The Performance files are LARGE. Saving them as parquet instead of .txt makes them faster to open.\n",
    "        \n",
    "        type_dict = {'a': 'Acquisition',\n",
    "                     'p': 'Performance'}\n",
    "        link = os.path.join(a.save_path, 'FNMA_{}_{}.parquet'.format(type_dict[kind], year))\n",
    "        writer = None\n",
    "        for q in range(1, 5):\n",
    "            table = pa.Table.from_pandas(a.read_txt(kind, year, q))\n",
    "            if writer is None:\n",
    "                writer = pq.ParquetWriter(link, table.schema)\n",
    "            writer.write_table(table=table)\n",
    "            del(table)\n",
    "        writer.close()\n",
    "        \n",
    "    def get_full_year(self, year):\n",
    "        \n",
    "        # Does the joining and some transformations for the full year of data. Note: this does NOT currently\n",
    "        # save the output of the function and instead only returns the dataframe. Make sure you save the output \n",
    "        # to a parquet with pq.write_table() unless you want to go through this slow process again!\n",
    "        \n",
    "        self.build_parquet('a', year)\n",
    "        self.build_parquet('p', year)\n",
    "        \n",
    "        a_link = os.path.join(a.save_path, 'FNMA_Acquisition_{}.parquet'.format(year))\n",
    "        p_link = os.path.join(a.save_path, 'FNMA_Performance_{}.parquet'.format(year))\n",
    "        \n",
    "        acq = pq.read_table(a_link, nthreads=7).to_pandas()\n",
    "        per = pq.read_table(p_link, nthreads=7).to_pandas()\n",
    "        \n",
    "        ## ANY ADDITIONAL TRANSFORMATIONS GO BELOW THIS LINE\n",
    "        # Currently only drops everything but the last row per LoanID in performance table and then joins on LoanID\n",
    "        \n",
    "        per.drop_duplicates(subset='LoanID', keep='last', inplace=True)\n",
    "        df = pd.merge(acq, per, on='LoanID', how='inner')\n",
    "        del(acq, per)\n",
    "        \n",
    "        return df\n"
   ]
  },
  {
   "cell_type": "code",
   "execution_count": null,
   "metadata": {},
   "outputs": [],
   "source": [
    "YEAR = 2004\n",
    "fnma = fnma()\n",
    "fnma.download_year(2004)\n",
    "df = fnma.get_full_year(2004)"
   ]
  },
  {
   "cell_type": "markdown",
   "metadata": {},
   "source": [
    "### Set Imports \n",
    "- Dependencies for classifier models - from SK-Learn Package\n",
    "- Dataframe dependecies - Pandas\n",
    "- Data Visualization - seaborn and matplotlib\n",
    "- ML Lifecycle - mlflow"
   ]
  },
  {
   "cell_type": "code",
   "execution_count": 1,
   "metadata": {},
   "outputs": [],
   "source": [
    "import pandas as pd\n",
    "import mlflow\n",
    "import mlflow.sklearn\n",
    "import io\n",
    "import os\n",
    "import seaborn as sns\n",
    "import numpy as np\n",
    "import warnings\n",
    "from sklearn.linear_model import LogisticRegression\n",
    "from sklearn.linear_model import LinearRegression\n",
    "from sklearn.model_selection import train_test_split\n",
    "from sklearn.metrics import average_precision_score\n",
    "from sklearn.model_selection import cross_val_score\n",
    "from sklearn.metrics import confusion_matrix\n",
    "warnings.filterwarnings(\"ignore\")"
   ]
  },
  {
   "cell_type": "markdown",
   "metadata": {},
   "source": [
    "### Feature Selection\n",
    "In this section we are subsetting the key features that we need in our model from the merged dataframe.\n",
    "For our prediction variable we consider that the foreclosure date as our default parameter."
   ]
  },
  {
   "cell_type": "code",
   "execution_count": 12,
   "metadata": {},
   "outputs": [],
   "source": [
    "df = df[['LoanID','Channel','SellerName','OrInterestRate','OrUnpaidPrinc','OrLoanTerm', 'OrDate',\n",
    "    'FirstPayment','OrCLTV','NumBorrow','DTIRat','CreditScore',\n",
    "    'FTHomeBuyer','LoanPurpose','PropertyType','NumUnits','OccStatus','PropertyState',\n",
    "    'Zip','RelMortInd','LoanAge','MonthsToMaturity','AdMonthsToMaturity','ForeclosureDate']]"
   ]
  },
  {
   "cell_type": "markdown",
   "metadata": {},
   "source": [
    "Renaming the ForeclosureDate column to Default"
   ]
  },
  {
   "cell_type": "code",
   "execution_count": 13,
   "metadata": {},
   "outputs": [],
   "source": [
    "df.rename(index=str, columns={\"ForeclosureDate\": 'Default'}, inplace=True)"
   ]
  },
  {
   "cell_type": "markdown",
   "metadata": {},
   "source": [
    "### Target flag\n",
    "In this we setting our target flag:\n",
    "- 1 for a defaulter \n",
    "- 0 for a non-defaulter"
   ]
  },
  {
   "cell_type": "code",
   "execution_count": 14,
   "metadata": {},
   "outputs": [],
   "source": [
    "df['Default'].fillna(0, inplace=True)\n",
    "df.loc[df['Default'] != 0, 'Default'] = 1\n",
    "\n",
    "df['Default'] = df['Default'].astype(int)"
   ]
  },
  {
   "cell_type": "markdown",
   "metadata": {},
   "source": [
    "### Analyzing the target variable to check if we have an imbalanced dataset"
   ]
  },
  {
   "cell_type": "code",
   "execution_count": 15,
   "metadata": {},
   "outputs": [
    {
     "data": {
      "text/html": [
       "<div>\n",
       "<style scoped>\n",
       "    .dataframe tbody tr th:only-of-type {\n",
       "        vertical-align: middle;\n",
       "    }\n",
       "\n",
       "    .dataframe tbody tr th {\n",
       "        vertical-align: top;\n",
       "    }\n",
       "\n",
       "    .dataframe thead th {\n",
       "        text-align: right;\n",
       "    }\n",
       "</style>\n",
       "<table border=\"1\" class=\"dataframe\">\n",
       "  <thead>\n",
       "    <tr style=\"text-align: right;\">\n",
       "      <th></th>\n",
       "      <th>LoanID</th>\n",
       "      <th>Channel</th>\n",
       "      <th>SellerName</th>\n",
       "      <th>OrInterestRate</th>\n",
       "      <th>OrUnpaidPrinc</th>\n",
       "      <th>OrLoanTerm</th>\n",
       "      <th>OrDate</th>\n",
       "      <th>FirstPayment</th>\n",
       "      <th>OrCLTV</th>\n",
       "      <th>NumBorrow</th>\n",
       "      <th>...</th>\n",
       "      <th>LoanPurpose</th>\n",
       "      <th>PropertyType</th>\n",
       "      <th>NumUnits</th>\n",
       "      <th>OccStatus</th>\n",
       "      <th>PropertyState</th>\n",
       "      <th>Zip</th>\n",
       "      <th>RelMortInd</th>\n",
       "      <th>LoanAge</th>\n",
       "      <th>MonthsToMaturity</th>\n",
       "      <th>AdMonthsToMaturity</th>\n",
       "    </tr>\n",
       "    <tr>\n",
       "      <th>Default</th>\n",
       "      <th></th>\n",
       "      <th></th>\n",
       "      <th></th>\n",
       "      <th></th>\n",
       "      <th></th>\n",
       "      <th></th>\n",
       "      <th></th>\n",
       "      <th></th>\n",
       "      <th></th>\n",
       "      <th></th>\n",
       "      <th></th>\n",
       "      <th></th>\n",
       "      <th></th>\n",
       "      <th></th>\n",
       "      <th></th>\n",
       "      <th></th>\n",
       "      <th></th>\n",
       "      <th></th>\n",
       "      <th></th>\n",
       "      <th></th>\n",
       "      <th></th>\n",
       "    </tr>\n",
       "  </thead>\n",
       "  <tbody>\n",
       "    <tr>\n",
       "      <th>0</th>\n",
       "      <td>441459</td>\n",
       "      <td>441459</td>\n",
       "      <td>441459</td>\n",
       "      <td>441459</td>\n",
       "      <td>441459</td>\n",
       "      <td>441459</td>\n",
       "      <td>441459</td>\n",
       "      <td>441459</td>\n",
       "      <td>441449</td>\n",
       "      <td>441452</td>\n",
       "      <td>...</td>\n",
       "      <td>441459</td>\n",
       "      <td>441459</td>\n",
       "      <td>441459</td>\n",
       "      <td>441459</td>\n",
       "      <td>441459</td>\n",
       "      <td>441459</td>\n",
       "      <td>441459</td>\n",
       "      <td>441459</td>\n",
       "      <td>441428</td>\n",
       "      <td>436366</td>\n",
       "    </tr>\n",
       "    <tr>\n",
       "      <th>1</th>\n",
       "      <td>11015</td>\n",
       "      <td>11015</td>\n",
       "      <td>11015</td>\n",
       "      <td>11015</td>\n",
       "      <td>11015</td>\n",
       "      <td>11015</td>\n",
       "      <td>11015</td>\n",
       "      <td>11015</td>\n",
       "      <td>11015</td>\n",
       "      <td>11015</td>\n",
       "      <td>...</td>\n",
       "      <td>11015</td>\n",
       "      <td>11015</td>\n",
       "      <td>11015</td>\n",
       "      <td>11015</td>\n",
       "      <td>11015</td>\n",
       "      <td>11015</td>\n",
       "      <td>11015</td>\n",
       "      <td>11015</td>\n",
       "      <td>11010</td>\n",
       "      <td>11015</td>\n",
       "    </tr>\n",
       "  </tbody>\n",
       "</table>\n",
       "<p>2 rows × 23 columns</p>\n",
       "</div>"
      ],
      "text/plain": [
       "         LoanID  Channel  SellerName  OrInterestRate  OrUnpaidPrinc  \\\n",
       "Default                                                               \n",
       "0        441459   441459      441459          441459         441459   \n",
       "1         11015    11015       11015           11015          11015   \n",
       "\n",
       "         OrLoanTerm  OrDate  FirstPayment  OrCLTV  NumBorrow  \\\n",
       "Default                                                        \n",
       "0            441459  441459        441459  441449     441452   \n",
       "1             11015   11015         11015   11015      11015   \n",
       "\n",
       "                ...          LoanPurpose  PropertyType  NumUnits  OccStatus  \\\n",
       "Default         ...                                                           \n",
       "0               ...               441459        441459    441459     441459   \n",
       "1               ...                11015         11015     11015      11015   \n",
       "\n",
       "         PropertyState     Zip  RelMortInd  LoanAge  MonthsToMaturity  \\\n",
       "Default                                                                 \n",
       "0               441459  441459      441459   441459            441428   \n",
       "1                11015   11015       11015    11015             11010   \n",
       "\n",
       "         AdMonthsToMaturity  \n",
       "Default                      \n",
       "0                    436366  \n",
       "1                     11015  \n",
       "\n",
       "[2 rows x 23 columns]"
      ]
     },
     "execution_count": 15,
     "metadata": {},
     "output_type": "execute_result"
    }
   ],
   "source": [
    "df.groupby(\"Default\").count()"
   ]
  },
  {
   "cell_type": "code",
   "execution_count": 16,
   "metadata": {},
   "outputs": [
    {
     "data": {
      "text/plain": [
       "<matplotlib.axes._subplots.AxesSubplot at 0x1a1e7aaa58>"
      ]
     },
     "execution_count": 16,
     "metadata": {},
     "output_type": "execute_result"
    },
    {
     "data": {
      "image/png": "[encoded data removed]",
      "text/plain": [
       "<Figure size 432x288 with 1 Axes>"
      ]
     },
     "metadata": {
      "needs_background": "light"
     },
     "output_type": "display_data"
    }
   ],
   "source": [
    "sns.countplot(df[\"Default\"])"
   ]
  },
  {
   "cell_type": "markdown",
   "metadata": {},
   "source": [
    "### Dropping the unncessary variables\n",
    "These variables other than the LoanID can be used for further analysis if needed\n",
    "- OrDate - OriginationDate of the loan\n",
    "- FirstPayment - When the first payment for the loan was made\n",
    "- Zip - Which state does the borrower live in"
   ]
  },
  {
   "cell_type": "code",
   "execution_count": 17,
   "metadata": {},
   "outputs": [],
   "source": [
    "df.drop(['OrDate','FirstPayment','LoanID','Zip'], axis=1, inplace=True)"
   ]
  },
  {
   "cell_type": "markdown",
   "metadata": {},
   "source": [
    "### Dealing with \"Object\" type variable\n",
    "The getdummies function gives us dummy variables for all the categorical features in our dataset"
   ]
  },
  {
   "cell_type": "code",
   "execution_count": 18,
   "metadata": {},
   "outputs": [],
   "source": [
    "def getdummies(df):\n",
    "    columns = df.columns[df.isnull().any()]\n",
    "    nan_cols = df[columns]\n",
    "\n",
    "    df.drop(nan_cols.columns, axis=1, inplace=True)\n",
    "\n",
    "    cat = df.select_dtypes(include=['object'])\n",
    "    num = df.drop(cat.columns, axis=1)\n",
    "\n",
    "    data = pd.DataFrame()\n",
    "    for i in cat.columns:\n",
    "        tmp = pd.get_dummies(cat[i], drop_first=True)\n",
    "        data = pd.concat([data, tmp], axis=1)\n",
    "\n",
    "    df = pd.concat([num,data,nan_cols], axis=1).reset_index(drop=True)\n",
    "    return df"
   ]
  },
  {
   "cell_type": "markdown",
   "metadata": {},
   "source": [
    "### Data Imputation\n",
    "The fillnan function uses logistic regression for object type features and linear regression for numeric features to impute the null values."
   ]
  },
  {
   "cell_type": "code",
   "execution_count": 19,
   "metadata": {},
   "outputs": [],
   "source": [
    "def fillnan(df):\n",
    "    columns = df.columns[df.isnull().any()]\n",
    "    for name in columns:\n",
    "        y = df.loc[df[name].notnull(), name].values\n",
    "        X = df.loc[df[name].notnull()].drop(columns, axis=1).values\n",
    "        X_test = df.loc[df[name].isnull()].drop(columns, axis=1).values\n",
    "        if df[name].dtypes == 'object':\n",
    "            model = LogisticRegression(random_state=0)\n",
    "            model.fit(X, y)\n",
    "            df.loc[df[name].isnull(), name] = model.predict(X_test)\n",
    "        else:\n",
    "            model = LinearRegression()\n",
    "            model.fit(X, y)\n",
    "            df.loc[df[name].isnull(), name] = model.predict(X_test)\n",
    "    return df"
   ]
  },
  {
   "cell_type": "markdown",
   "metadata": {},
   "source": [
    "### Subsetting dataset below, please remove if necessary"
   ]
  },
  {
   "cell_type": "code",
   "execution_count": 20,
   "metadata": {},
   "outputs": [],
   "source": [
    "df = df[1:100000]"
   ]
  },
  {
   "cell_type": "markdown",
   "metadata": {},
   "source": [
    "### Using the static functions to rectify the data"
   ]
  },
  {
   "cell_type": "code",
   "execution_count": 21,
   "metadata": {},
   "outputs": [],
   "source": [
    "df = getdummies(df)"
   ]
  },
  {
   "cell_type": "code",
   "execution_count": 22,
   "metadata": {},
   "outputs": [],
   "source": [
    "df = fillnan(df)"
   ]
  },
  {
   "cell_type": "markdown",
   "metadata": {},
   "source": [
    "### Rectifying the imbalanced dataset\n",
    "- Instead of simply using under-sampling or over-sampling to rectify our imbalanced dataset we use SMOTE - A synthetic minority oversampling technique.\n",
    "- This technique uses a synthetic approach to create new instances of the minor class instead of creating copies.\n",
    "- The algorithm selects two or more similar instances (using a distance measure) and perturbing an instance one attribute at a time by a random amount within the difference to the neighboring instances."
   ]
  },
  {
   "cell_type": "code",
   "execution_count": 23,
   "metadata": {},
   "outputs": [],
   "source": [
    "from imblearn.combine import SMOTEENN\n",
    "sm = SMOTEENN()\n",
    "\n",
    "y = df['Default'].values\n",
    "X = df.drop(['Default'], axis=1).values\n",
    "X_resampled, y_resampled = sm.fit_sample(X, y)"
   ]
  },
  {
   "cell_type": "markdown",
   "metadata": {},
   "source": [
    "## Data Processing\n",
    "Splitting the data set into training and test and using that to make predictions."
   ]
  },
  {
   "cell_type": "code",
   "execution_count": 24,
   "metadata": {},
   "outputs": [],
   "source": [
    "X_train, X_test, y_train, y_test = train_test_split(X_resampled, y_resampled, test_size = 0.25, random_state=0)\n",
    "with mlflow.start_run():    \n",
    "    model = LogisticRegression(random_state = 0)\n",
    "    model = model.fit(X_train, y_train)\n",
    "    predict = model.predict(X_test)\n",
    "    precision = average_precision_score(y_test, predict)\n",
    "    \n",
    "    mlflow.log_metric(\"Precision Score\", precision)\n",
    "    mlflow.sklearn.log_model(model, \"Logistic_Model\")"
   ]
  },
  {
   "cell_type": "code",
   "execution_count": 25,
   "metadata": {
    "scrolled": true
   },
   "outputs": [
    {
     "data": {
      "image/png": "[encoded data removed]",
      "text/plain": [
       "<Figure size 432x288 with 2 Axes>"
      ]
     },
     "metadata": {
      "needs_background": "light"
     },
     "output_type": "display_data"
    }
   ],
   "source": [
    "import matplotlib.pyplot as mp\n",
    "%matplotlib inline\n",
    "\n",
    "cm = confusion_matrix(y_test, predict).T\n",
    "cm = cm.astype('float')/cm.sum(axis=0)\n",
    "\n",
    "fig, ax = mp.subplots()\n",
    "sns.heatmap(cm, annot=True, cmap='Blues');\n",
    "ax.set_xlabel('True Label')\n",
    "ax.set_ylabel('Predicted Label')\n",
    "ax.xaxis.set_label_position('top')"
   ]
  },
  {
   "cell_type": "markdown",
   "metadata": {},
   "source": [
    "### Cross validation\n",
    "In this section we are using a three fold cross validation technique to validate our model"
   ]
  },
  {
   "cell_type": "code",
   "execution_count": 26,
   "metadata": {},
   "outputs": [
    {
     "data": {
      "text/plain": [
       "0.8233528180066475"
      ]
     },
     "execution_count": 26,
     "metadata": {},
     "output_type": "execute_result"
    }
   ],
   "source": [
    "accuracies = cross_val_score(estimator = model, X = X_resampled, y = y_resampled, cv = 3)\n",
    "accuracies.mean()"
   ]
  },
  {
   "cell_type": "code",
   "execution_count": null,
   "metadata": {},
   "outputs": [],
   "source": []
  }
 ],
 "metadata": {
  "kernelspec": {
   "display_name": "Python 3",
   "language": "python",
   "name": "python3"
  },
  "language_info": {
   "codemirror_mode": {
    "name": "ipython",
    "version": 3
   },
   "file_extension": ".py",
   "mimetype": "text/x-python",
   "name": "python",
   "nbconvert_exporter": "python",
   "pygments_lexer": "ipython3",
   "version": "3.6.4"
  }
 },
 "nbformat": 4,
 "nbformat_minor": 2
}
